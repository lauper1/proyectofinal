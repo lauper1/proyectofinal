{
 "metadata": {
  "language": "Julia",
  "name": "",
  "signature": "sha256:b50529a010be32e6286dd736283129bd97b652b49b3de1fe024107fa5f0e8f2c"
 },
 "nbformat": 3,
 "nbformat_minor": 0,
 "worksheets": [
  {
   "cells": [
    {
     "cell_type": "code",
     "collapsed": false,
     "input": [],
     "language": "python",
     "metadata": {},
     "outputs": []
    }
   ],
   "metadata": {}
  }
 ]
}